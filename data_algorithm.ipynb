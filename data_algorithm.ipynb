{
 "cells": [
  {
   "cell_type": "code",
   "execution_count": 2,
   "id": "194ef4d5-d45d-4b1f-8409-2f46fdc40778",
   "metadata": {
    "ExecutionIndicator": {
     "show": true
    },
    "execution": {
     "iopub.execute_input": "2024-09-07T11:33:27.892479Z",
     "iopub.status.busy": "2024-09-07T11:33:27.892075Z",
     "iopub.status.idle": "2024-09-07T11:33:27.896192Z",
     "shell.execute_reply": "2024-09-07T11:33:27.895627Z",
     "shell.execute_reply.started": "2024-09-07T11:33:27.892449Z"
    },
    "tags": []
   },
   "outputs": [
    {
     "name": "stdout",
     "output_type": "stream",
     "text": [
      "[1, 2]\n",
      "[1]\n"
     ]
    }
   ],
   "source": [
    "# 数据结构 栈\n",
    "stack=[]\n",
    "stack.append(1)\n",
    "stack.append(2)\n",
    "print(stack)\n",
    "stack.pop()\n",
    "print(stack)"
   ]
  },
  {
   "cell_type": "code",
   "execution_count": 4,
   "id": "d2405e0c-0cd5-4905-87df-bf6e6e6a701d",
   "metadata": {
    "ExecutionIndicator": {
     "show": true
    },
    "execution": {
     "iopub.execute_input": "2024-09-07T11:35:56.241254Z",
     "iopub.status.busy": "2024-09-07T11:35:56.240761Z",
     "iopub.status.idle": "2024-09-07T11:35:56.244309Z",
     "shell.execute_reply": "2024-09-07T11:35:56.243862Z",
     "shell.execute_reply.started": "2024-09-07T11:35:56.241233Z"
    },
    "tags": []
   },
   "outputs": [
    {
     "name": "stdout",
     "output_type": "stream",
     "text": [
      "deque([1, 2])\n"
     ]
    }
   ],
   "source": [
    "from collections import deque\n",
    "queue=deque()\n",
    "queue.append(1)\n",
    "queue.append(2)\n",
    "print(queue)"
   ]
  }
 ],
 "metadata": {
  "kernelspec": {
   "display_name": "Python 3 (ipykernel)",
   "language": "python",
   "name": "python3"
  },
  "language_info": {
   "codemirror_mode": {
    "name": "ipython",
    "version": 3
   },
   "file_extension": ".py",
   "mimetype": "text/x-python",
   "name": "python",
   "nbconvert_exporter": "python",
   "pygments_lexer": "ipython3",
   "version": "3.10.14"
  }
 },
 "nbformat": 4,
 "nbformat_minor": 5
}
