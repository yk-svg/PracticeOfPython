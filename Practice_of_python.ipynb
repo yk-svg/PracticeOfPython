{
 "cells": [
  {
   "cell_type": "code",
   "execution_count": null,
   "id": "8cc2ad05-bdcd-44f6-b2bf-e7293335d848",
   "metadata": {
    "ExecutionIndicator": {
     "show": true
    },
    "tags": []
   },
   "outputs": [],
   "source": [
    "# Python内置数据结构最常见的是列表,元组和字符串\n",
    "# 列表是最基础的数据结构"
   ]
  },
  {
   "cell_type": "code",
   "execution_count": null,
   "id": "6c39b742-ff53-447e-ba62-8547dfce46f4",
   "metadata": {},
   "outputs": [],
   "source": []
  },
  {
   "cell_type": "code",
   "execution_count": null,
   "id": "16e5552a-c85a-40aa-9a3b-bdfb3527a002",
   "metadata": {},
   "outputs": [],
   "source": [
    "# 怎么创建列表？只要把用逗号分隔的不同数据项用方括号括起来就可以了\n",
    "# 删除列表元素三方法：del list[1];list.remove(\"具体元素\");list.pop(2) 删除位置2的元素\n",
    "# 添加 list.append(2003) 添加2003至list列表中"
   ]
  },
  {
   "cell_type": "code",
   "execution_count": 16,
   "id": "1ec458f3-c9a7-4421-98df-850345791690",
   "metadata": {
    "ExecutionIndicator": {
     "show": false
    },
    "execution": {
     "iopub.execute_input": "2024-09-07T02:46:29.970259Z",
     "iopub.status.busy": "2024-09-07T02:46:29.969768Z",
     "iopub.status.idle": "2024-09-07T02:46:29.973557Z",
     "shell.execute_reply": "2024-09-07T02:46:29.973133Z",
     "shell.execute_reply.started": "2024-09-07T02:46:29.970241Z"
    },
    "tags": []
   },
   "outputs": [
    {
     "name": "stdout",
     "output_type": "stream",
     "text": [
      "[0, 0, 0, 0, 0, 0]\n",
      "改变以后的matrix: \n",
      " [[0, 0, 0, 0, 0, 0], [0, 0, 0, 0, 0, 0], [0, 0, 0, 0, 0, 0]]\n"
     ]
    }
   ],
   "source": [
    "# 定义三行二列的元素列表\n",
    "rows=3\n",
    "cols=6\n",
    "matrix=[ 0 for col in range(cols)]\n",
    "print(matrix)\n",
    "matrix=[ matrix for row in range(rows)]\n",
    "print(f\"改变以后的matrix: \\n\",matrix)"
   ]
  },
  {
   "cell_type": "code",
   "execution_count": 17,
   "id": "06ac9aa0-5466-45fd-899d-fccdc8774679",
   "metadata": {
    "execution": {
     "iopub.execute_input": "2024-09-07T02:51:26.882156Z",
     "iopub.status.busy": "2024-09-07T02:51:26.881682Z",
     "iopub.status.idle": "2024-09-07T02:51:26.887749Z",
     "shell.execute_reply": "2024-09-07T02:51:26.887065Z",
     "shell.execute_reply.started": "2024-09-07T02:51:26.882123Z"
    },
    "tags": []
   },
   "outputs": [
    {
     "name": "stdout",
     "output_type": "stream",
     "text": [
      "这是L:\n",
      " [1, 2, 3, 4, 5, 6, 7, 8, 9] \n",
      " 这是L1:\n",
      " [1, 4, 9, 16, 25, 36, 49, 64, 81, 100] \n",
      " 这是L2:\n",
      " [1, 4, 9, 16, 25, 36, 49, 64, 81, 100]\n"
     ]
    }
   ],
   "source": [
    "# 列表生成式\n",
    "# 1.\n",
    "L=list(range(1,10))\n",
    "# 2.\n",
    "L1=[]\n",
    "for i in range(1,11):\n",
    "    L1.append(i*i)\n",
    "# 3.\n",
    "L2=[x*x for x in range(1,11)]\n",
    "\n",
    "print(f\"这是L:\\n\",L,\"\\n\",f\"这是L1:\\n\",L1,\"\\n\",f\"这是L2:\\n\",L2)"
   ]
  },
  {
   "cell_type": "code",
   "execution_count": 22,
   "id": "25538e59-21c7-49d2-9339-9933dadc775a",
   "metadata": {
    "ExecutionIndicator": {
     "show": true
    },
    "execution": {
     "iopub.execute_input": "2024-09-07T02:56:30.285443Z",
     "iopub.status.busy": "2024-09-07T02:56:30.285125Z",
     "iopub.status.idle": "2024-09-07T02:56:30.290115Z",
     "shell.execute_reply": "2024-09-07T02:56:30.289538Z",
     "shell.execute_reply.started": "2024-09-07T02:56:30.285415Z"
    },
    "tags": []
   },
   "outputs": [
    {
     "name": "stdout",
     "output_type": "stream",
     "text": [
      "x 键= A;y 键= B;z 键= C;"
     ]
    }
   ],
   "source": [
    "# 穿插字典\n",
    "dict={'x':'A','y':'B','z':'C'}\n",
    "for k,v in dict.items():\n",
    "    print(k,\"键=\",v,end=';')"
   ]
  },
  {
   "cell_type": "code",
   "execution_count": 4,
   "id": "4c85e564-c346-444c-a9b1-8dec9a136bb0",
   "metadata": {
    "ExecutionIndicator": {
     "show": false
    },
    "execution": {
     "iopub.execute_input": "2024-09-07T05:29:29.278054Z",
     "iopub.status.busy": "2024-09-07T05:29:29.277691Z",
     "iopub.status.idle": "2024-09-07T05:29:29.281429Z",
     "shell.execute_reply": "2024-09-07T05:29:29.281008Z",
     "shell.execute_reply.started": "2024-09-07T05:29:29.278033Z"
    },
    "tags": []
   },
   "outputs": [
    {
     "name": "stdout",
     "output_type": "stream",
     "text": [
      "<class 'str'>\n",
      "字符串: ,\n"
     ]
    }
   ],
   "source": [
    "# 元组\n",
    "# 空元组\n",
    "tupl=()\n",
    "# 只包含一个元素,后面要加逗号\n",
    "tupl=(50,)\n",
    "\n",
    "# 元组中元素值不允许删除，所以要删，全部删除\n",
    "# 列表有，元组，字符串可以互相转换\n",
    "nums=[1,2,3]\n",
    "str1=str(nums)\n",
    "print(type(str1))\n",
    "print(f\"字符串:\",str1)"
   ]
  },
  {
   "cell_type": "code",
   "execution_count": 14,
   "id": "a3d1d6a9-90dc-4e8c-9ee1-9d54656c6e8a",
   "metadata": {
    "ExecutionIndicator": {
     "show": false
    },
    "execution": {
     "iopub.execute_input": "2024-09-07T05:43:22.767436Z",
     "iopub.status.busy": "2024-09-07T05:43:22.767089Z",
     "iopub.status.idle": "2024-09-07T05:43:24.618390Z",
     "shell.execute_reply": "2024-09-07T05:43:24.617877Z",
     "shell.execute_reply.started": "2024-09-07T05:43:22.767417Z"
    },
    "tags": []
   },
   "outputs": [
    {
     "name": "stdin",
     "output_type": "stream",
     "text": [
      "输入年份： 1\n"
     ]
    }
   ],
   "source": [
    "year=int(input(\"输入年份：\"))\n",
    "if (year%4==0 and year%100 !=0) or year%400==0:\n",
    "    print(\"是闰年\")\n",
    "else:\n",
    "    print(\"不是闰年\")"
   ]
  },
  {
   "cell_type": "code",
   "execution_count": 15,
   "id": "33c74385-49c5-48df-9967-b7850109bbc7",
   "metadata": {
    "execution": {
     "iopub.execute_input": "2024-09-07T05:47:17.903169Z",
     "iopub.status.busy": "2024-09-07T05:47:17.902816Z",
     "iopub.status.idle": "2024-09-07T05:47:17.906030Z",
     "shell.execute_reply": "2024-09-07T05:47:17.905597Z",
     "shell.execute_reply.started": "2024-09-07T05:47:17.903148Z"
    },
    "tags": []
   },
   "outputs": [
    {
     "name": "stdout",
     "output_type": "stream",
     "text": [
      "hello\n"
     ]
    }
   ],
   "source": [
    "def printhello():\n",
    "    print(\"hello\")\n",
    "printhello()"
   ]
  },
  {
   "cell_type": "code",
   "execution_count": 22,
   "id": "69c3ecdc-1818-4d2a-87d5-ce2da7b77241",
   "metadata": {
    "ExecutionIndicator": {
     "show": true
    },
    "execution": {
     "iopub.execute_input": "2024-09-07T06:01:53.176263Z",
     "iopub.status.busy": "2024-09-07T06:01:53.175900Z",
     "iopub.status.idle": "2024-09-07T06:01:56.256629Z",
     "shell.execute_reply": "2024-09-07T06:01:56.256121Z",
     "shell.execute_reply.started": "2024-09-07T06:01:53.176242Z"
    },
    "tags": []
   },
   "outputs": [
    {
     "name": "stdin",
     "output_type": "stream",
     "text": [
      "输入自然数： 2\n",
      "a的个数: 2\n"
     ]
    },
    {
     "name": "stdout",
     "output_type": "stream",
     "text": [
      "sum的值: 24\n"
     ]
    }
   ],
   "source": [
    "a=int(input(\"输入自然数：\"))\n",
    "n=int(input(\"a的个数:\"))\n",
    "sum,t=0,0\n",
    "for i in range(1,n+1):\n",
    "    t=t*10+a\n",
    "    sum+=t\n",
    "            \n",
    "print(\"sum的值:\",sum)"
   ]
  },
  {
   "cell_type": "code",
   "execution_count": 23,
   "id": "914f0989-e933-45ab-8d36-874c0fd6d79b",
   "metadata": {
    "execution": {
     "iopub.execute_input": "2024-09-07T06:04:15.927443Z",
     "iopub.status.busy": "2024-09-07T06:04:15.927116Z",
     "iopub.status.idle": "2024-09-07T06:04:15.930682Z",
     "shell.execute_reply": "2024-09-07T06:04:15.930253Z",
     "shell.execute_reply.started": "2024-09-07T06:04:15.927424Z"
    },
    "tags": []
   },
   "outputs": [
    {
     "name": "stdout",
     "output_type": "stream",
     "text": [
      "3\n"
     ]
    }
   ],
   "source": [
    "# 闭包\n",
    "def func():\n",
    "    def add(a,b):\n",
    "        return a+b;\n",
    "    return add;\n",
    "funsc=func()\n",
    "print(funsc(1,2))"
   ]
  },
  {
   "cell_type": "code",
   "execution_count": 24,
   "id": "abbb3e27-57da-4898-9da5-56f66015ee57",
   "metadata": {
    "execution": {
     "iopub.execute_input": "2024-09-07T06:06:35.931734Z",
     "iopub.status.busy": "2024-09-07T06:06:35.931402Z",
     "iopub.status.idle": "2024-09-07T06:06:35.935083Z",
     "shell.execute_reply": "2024-09-07T06:06:35.934619Z",
     "shell.execute_reply.started": "2024-09-07T06:06:35.931715Z"
    },
    "tags": []
   },
   "outputs": [
    {
     "name": "stdout",
     "output_type": "stream",
     "text": [
      "55\n"
     ]
    }
   ],
   "source": [
    "#递归\n",
    "def func(x):\n",
    "    if x==1:\n",
    "        return 1;\n",
    "    else:\n",
    "        return(func(x-1)+x*x)\n",
    "print(func(5))"
   ]
  },
  {
   "cell_type": "code",
   "execution_count": 3,
   "id": "3ce85a5f-81d3-4586-9cf7-3435b77e89f1",
   "metadata": {
    "ExecutionIndicator": {
     "show": true
    },
    "execution": {
     "iopub.execute_input": "2024-09-07T08:13:17.825068Z",
     "iopub.status.busy": "2024-09-07T08:13:17.824748Z",
     "iopub.status.idle": "2024-09-07T08:13:17.829222Z",
     "shell.execute_reply": "2024-09-07T08:13:17.828760Z",
     "shell.execute_reply.started": "2024-09-07T08:13:17.825049Z"
    },
    "tags": []
   },
   "outputs": [
    {
     "name": "stdout",
     "output_type": "stream",
     "text": [
      "1 1 2 3 5 8 13 21 34 55 89 144 233 377 610 987 \n"
     ]
    },
    {
     "data": {
      "text/plain": [
       "['__builtins__',\n",
       " '__cached__',\n",
       " '__doc__',\n",
       " '__file__',\n",
       " '__loader__',\n",
       " '__name__',\n",
       " '__package__',\n",
       " '__spec__',\n",
       " 'add',\n",
       " 'fib',\n",
       " 'fib2']"
      ]
     },
     "execution_count": 3,
     "metadata": {},
     "output_type": "execute_result"
    }
   ],
   "source": [
    "import fibo\n",
    "fibo.fib(1000)\n",
    "fibo.fib2(1000)\n",
    "dir(fibo)"
   ]
  },
  {
   "cell_type": "code",
   "execution_count": 12,
   "id": "10b74686-29b9-4b21-b2f7-40eac7813313",
   "metadata": {
    "ExecutionIndicator": {
     "show": true
    },
    "execution": {
     "iopub.execute_input": "2024-09-07T08:20:51.983207Z",
     "iopub.status.busy": "2024-09-07T08:20:51.982905Z",
     "iopub.status.idle": "2024-09-07T08:20:51.986339Z",
     "shell.execute_reply": "2024-09-07T08:20:51.985912Z",
     "shell.execute_reply.started": "2024-09-07T08:20:51.983189Z"
    },
    "tags": []
   },
   "outputs": [
    {
     "name": "stdout",
     "output_type": "stream",
     "text": [
      "hello\n"
     ]
    }
   ],
   "source": [
    "# 类定义\n",
    "class Person:\n",
    "    age=0\n",
    "    def sayhello(self):\n",
    "        print(\"hello\")\n",
    "p=Person()\n",
    "p.sayhello()"
   ]
  },
  {
   "cell_type": "code",
   "execution_count": 18,
   "id": "d757f6f8-4f8c-4e87-a54e-97390c2f3599",
   "metadata": {
    "ExecutionIndicator": {
     "show": true
    },
    "execution": {
     "iopub.execute_input": "2024-09-07T08:26:00.542247Z",
     "iopub.status.busy": "2024-09-07T08:26:00.541944Z",
     "iopub.status.idle": "2024-09-07T08:26:00.545939Z",
     "shell.execute_reply": "2024-09-07T08:26:00.545385Z",
     "shell.execute_reply.started": "2024-09-07T08:26:00.542227Z"
    },
    "tags": []
   },
   "outputs": [
    {
     "name": "stdout",
     "output_type": "stream",
     "text": [
      "3.5 4.0\n"
     ]
    }
   ],
   "source": [
    "# 构造函数\n",
    "class Complex:\n",
    "    def __init__(self,realpart,imagepart):\n",
    "        self.r=realpart\n",
    "        self.i=imagepart\n",
    "x=Complex(3.5,4.0)\n",
    "print(x.r,x.i)"
   ]
  },
  {
   "cell_type": "code",
   "execution_count": 20,
   "id": "9ab2a187-fdb9-472b-9049-612cfb789a35",
   "metadata": {
    "ExecutionIndicator": {
     "show": true
    },
    "execution": {
     "iopub.execute_input": "2024-09-07T08:28:30.740794Z",
     "iopub.status.busy": "2024-09-07T08:28:30.740495Z",
     "iopub.status.idle": "2024-09-07T08:28:30.744383Z",
     "shell.execute_reply": "2024-09-07T08:28:30.743959Z",
     "shell.execute_reply.started": "2024-09-07T08:28:30.740775Z"
    },
    "tags": []
   },
   "outputs": [
    {
     "name": "stdout",
     "output_type": "stream",
     "text": [
      "3.5 4.0\n",
      "<__main__.Complex object at 0x7f9f50350d60>\n",
      "Complex不存在了\n"
     ]
    }
   ],
   "source": [
    "# 析构函数\n",
    "class Complex:\n",
    "    def __init__(self,realpart,imagepart):\n",
    "        self.r=realpart\n",
    "        self.i=imagepart\n",
    "    def __del__(self):\n",
    "        print(\"Complex不存在了\")\n",
    "x=Complex(3.5,4.0)\n",
    "print(x.r,x.i)\n",
    "print(x)\n",
    "del x"
   ]
  },
  {
   "cell_type": "code",
   "execution_count": 22,
   "id": "83fd8173-0074-4169-ba81-dafaae2ecff0",
   "metadata": {
    "ExecutionIndicator": {
     "show": false
    },
    "execution": {
     "iopub.execute_input": "2024-09-07T08:35:26.216475Z",
     "iopub.status.busy": "2024-09-07T08:35:26.216176Z",
     "iopub.status.idle": "2024-09-07T08:35:26.220794Z",
     "shell.execute_reply": "2024-09-07T08:35:26.220356Z",
     "shell.execute_reply.started": "2024-09-07T08:35:26.216457Z"
    },
    "tags": []
   },
   "outputs": [
    {
     "name": "stdout",
     "output_type": "stream",
     "text": [
      "这是姓名: 奥特曼 这是年龄: 42\n",
      "这是姓名: 王琳 这是年龄: 21\n",
      "2\n",
      "2\n"
     ]
    }
   ],
   "source": [
    "class Person:\n",
    "    num=1\n",
    "    def __init__(self,str,n):\n",
    "        self.name=str\n",
    "        self.age=n\n",
    "    def SayHello(self):\n",
    "        print(\"hello\")\n",
    "    def printName(self):\n",
    "        print(\"这是姓名:\",self.name,\"这是年龄:\",self.age)\n",
    "    def PrintNum(self):\n",
    "        print(Person.num)\n",
    "P1=Person(\"奥特曼\",42)\n",
    "P2=Person(\"王琳\",21)\n",
    "P1.printName()\n",
    "P2.printName()\n",
    "Person.num=2           # num变量是类变量，类所有实例共享\n",
    "P1.PrintNum()\n",
    "P2.PrintNum()"
   ]
  },
  {
   "cell_type": "code",
   "execution_count": 26,
   "id": "16833018-a336-46e3-8acb-735585969d28",
   "metadata": {
    "ExecutionIndicator": {
     "show": true
    },
    "execution": {
     "iopub.execute_input": "2024-09-07T09:04:11.921875Z",
     "iopub.status.busy": "2024-09-07T09:04:11.921318Z",
     "iopub.status.idle": "2024-09-07T09:04:11.930169Z",
     "shell.execute_reply": "2024-09-07T09:04:11.929772Z",
     "shell.execute_reply.started": "2024-09-07T09:04:11.921843Z"
    },
    "tags": []
   },
   "outputs": [
    {
     "name": "stdout",
     "output_type": "stream",
     "text": [
      "Red\n",
      "KUNMing\n",
      "0\n",
      "9\n"
     ]
    },
    {
     "data": {
      "text/plain": [
       "'\\nimport functools\\nimport logging\\n\\n# 配置日志\\nlogging.basicConfig(level=logging.INFO)\\n\\ndef log_decorator(func):\\n    @functools.wraps(func)\\n    def wrapper(*args, **kwargs):\\n        logging.info(f\"Calling {func.__name__} with args={args}, kwargs={kwargs}\")\\n        result = func(*args, **kwargs)\\n        logging.info(f\"{func.__name__} returned {result}\")\\n        return result\\n    return wrapper\\n\\n@log_decorator\\ndef add(a, b):\\n    return a + b\\n\\n@log_decorator\\ndef multiply(a, b):\\n    return a * b\\n\\n# 使用装饰过的函数\\nadd(2, 3)\\nmultiply(4, 5)\\n\\n在这个例子中，log_decorator 是一个装饰器，它记录了函数的调用和返回值。\\n通过在 add 和 multiply 函数上应用这个装饰器，我们不需要在每个函数内部手动添加日志记录代码，这样就实现了代码的复用和功能的增强。\\n\\n总结\\n装饰器是一种强大的工具，它通过包装函数来增强其功能，同时保持原有函数的代码不变。这使得代码更加模块化、可维护，并且提高了代码的可重用性。\\n\\n'"
      ]
     },
     "execution_count": 26,
     "metadata": {},
     "output_type": "execute_result"
    }
   ],
   "source": [
    "# 方法\n",
    "class Fruit:\n",
    "    price=0\n",
    "    def __init__(self):     # 私有方法前面加两个横线__\n",
    "        self.__color='Red'   # 私有属性前面加两个横线—__\n",
    "        self.__city='KUNMing'\n",
    "    def __outputColor(self):\n",
    "        print(self.__color)\n",
    "    def __outputCity(self):\n",
    "        print(self.__city)\n",
    "    def output(self):\n",
    "        self.__outputColor()\n",
    "        self.__outputCity()\n",
    "    @staticmethod\n",
    "    def getPrice():\n",
    "        return Fruit.price\n",
    "    @staticmethod      # 你使用@staticmethod装饰器时，你定义的是一个静态方法。\n",
    "                      #静态方法不会自动接收类（cls）或实例（self）作为第一个参数，\n",
    "                     #因此你不能在静态方法中使用self或cls来访问类的实例属性或类属性。\n",
    "    def setPrice(p):\n",
    "        Fruit.price=p\n",
    "apple=Fruit()\n",
    "apple.output()\n",
    "print(Fruit.getPrice())\n",
    "Fruit.setPrice(9)\n",
    "print(Fruit.getPrice())\n",
    "\n",
    "# 学习了装饰器，可以看做为旧函数添加新功能，增强系统的灵活性\n",
    "\"\"\"\n",
    "import functools\n",
    "import logging\n",
    "\n",
    "# 配置日志\n",
    "logging.basicConfig(level=logging.INFO)\n",
    "\n",
    "def log_decorator(func):\n",
    "    @functools.wraps(func)\n",
    "    def wrapper(*args, **kwargs):\n",
    "        logging.info(f\"Calling {func.__name__} with args={args}, kwargs={kwargs}\")\n",
    "        result = func(*args, **kwargs)\n",
    "        logging.info(f\"{func.__name__} returned {result}\")\n",
    "        return result\n",
    "    return wrapper\n",
    "\n",
    "@log_decorator\n",
    "def add(a, b):\n",
    "    return a + b\n",
    "\n",
    "@log_decorator\n",
    "def multiply(a, b):\n",
    "    return a * b\n",
    "\n",
    "# 使用装饰过的函数\n",
    "add(2, 3)\n",
    "multiply(4, 5)\n",
    "\n",
    "在这个例子中，log_decorator 是一个装饰器，它记录了函数的调用和返回值。\n",
    "通过在 add 和 multiply 函数上应用这个装饰器，我们不需要在每个函数内部手动添加日志记录代码，这样就实现了代码的复用和功能的增强。\n",
    "\n",
    "总结\n",
    "装饰器是一种强大的工具，它通过包装函数来增强其功能，同时保持原有函数的代码不变。这使得代码更加模块化、可维护，并且提高了代码的可重用性。\n",
    "\n",
    "\"\"\""
   ]
  },
  {
   "cell_type": "code",
   "execution_count": 31,
   "id": "2c42d82a-a082-408b-a3ac-ec2fac5dcf74",
   "metadata": {
    "ExecutionIndicator": {
     "show": true
    },
    "execution": {
     "iopub.execute_input": "2024-09-07T09:39:50.930747Z",
     "iopub.status.busy": "2024-09-07T09:39:50.930420Z",
     "iopub.status.idle": "2024-09-07T09:39:50.937518Z",
     "shell.execute_reply": "2024-09-07T09:39:50.937066Z",
     "shell.execute_reply.started": "2024-09-07T09:39:50.930727Z"
    },
    "tags": []
   },
   "outputs": [
    {
     "name": "stdout",
     "output_type": "stream",
     "text": [
      "姓名： 张三 年龄： 19 性别: 男\n",
      "姓名： 李四 年龄： 19 性别: 男\n",
      "入学年份: 2015\n",
      "姓名： 李四 年龄： 20 性别: 男\n",
      "入学年份: 2015\n"
     ]
    }
   ],
   "source": [
    "# 类的继承\n",
    "import types\n",
    "# class 派生类名()基类名：\n",
    "        # 派生类成员\n",
    "class Person(object):\n",
    "    def __init__(self,name='',age=20,sex='man'):\n",
    "        self.setName(name)\n",
    "        self.setAge(age)\n",
    "        self.setSex(sex)\n",
    "    def setName(self,name):\n",
    "        if type(name)!=str:\n",
    "            print(\"名字必须是字符串\")\n",
    "            return \n",
    "        self.__name=name\n",
    "    def setAge(self,age):\n",
    "        if type(age)!=int:\n",
    "            print(\"年龄必须是整数\")\n",
    "            return \n",
    "        self.__age=age\n",
    "    def setSex(self,sex):\n",
    "        if sex!='男' and sex !='女':\n",
    "            print(\"性别输入错误\")\n",
    "            return\n",
    "        self.__sex=sex\n",
    "    def show(self):\n",
    "        print(\"姓名：\",self.__name,\"年龄：\",self.__age,\"性别:\",self.__sex)\n",
    "class Student(Person):\n",
    "    def __init__(self,name='',age=20,sex='man',schoolyear=2016):\n",
    "        # Student：这是当前类的名字，也就是子类的名称。\n",
    "        # self：这是当前类的实例对象的引用。\n",
    "        # __init__：这是要调用的父类的方法名，通常是指构造函数。\n",
    "        #(name, age, sex)：这是传递给父类构造函数的参数。\n",
    "        # super() 函数是Python中一个非常有用的工具，它允许子类调用父类的方法，从而实现代码复用和保持一致性。\n",
    "        # 通过使用 super()，你可以确保父类的初始化逻辑被正确执行，同时在子类中添加或修改特定的行为。\n",
    "        super(Student,self).__init__(name,age,sex)\n",
    "        self.setschoolyear(schoolyear)\n",
    "    def setschoolyear(self,schoolyear):\n",
    "        self.__schoolyear=schoolyear\n",
    "    def show(self):\n",
    "        Person.show(self)\n",
    "        print(\"入学年份:\",self.__schoolyear)\n",
    "if __name__=='__main__':\n",
    "    zhangsan=Person(\"张三\",19,'男')\n",
    "    zhangsan.show()\n",
    "    lisi=Student(\"李四\",19,'男',2015)\n",
    "    lisi.show()\n",
    "    lisi.setAge(20)\n",
    "    lisi.show()\n",
    "    "
   ]
  },
  {
   "cell_type": "code",
   "execution_count": 32,
   "id": "7a98a63f-7034-4c83-84f7-e0242f88b394",
   "metadata": {
    "execution": {
     "iopub.execute_input": "2024-09-07T09:41:43.916837Z",
     "iopub.status.busy": "2024-09-07T09:41:43.916538Z",
     "iopub.status.idle": "2024-09-07T09:41:43.920155Z",
     "shell.execute_reply": "2024-09-07T09:41:43.919740Z",
     "shell.execute_reply.started": "2024-09-07T09:41:43.916819Z"
    },
    "tags": []
   },
   "outputs": [
    {
     "data": {
      "text/plain": [
       "True"
      ]
     },
     "execution_count": 32,
     "metadata": {},
     "output_type": "execute_result"
    }
   ],
   "source": [
    "# 一个变量是否为某类型可以使用isinstance()进行判断\n",
    "a=list()\n",
    "isinstance(a,list)"
   ]
  }
 ],
 "metadata": {
  "kernelspec": {
   "display_name": "Python 3 (ipykernel)",
   "language": "python",
   "name": "python3"
  },
  "language_info": {
   "codemirror_mode": {
    "name": "ipython",
    "version": 3
   },
   "file_extension": ".py",
   "mimetype": "text/x-python",
   "name": "python",
   "nbconvert_exporter": "python",
   "pygments_lexer": "ipython3",
   "version": "3.10.14"
  }
 },
 "nbformat": 4,
 "nbformat_minor": 5
}
