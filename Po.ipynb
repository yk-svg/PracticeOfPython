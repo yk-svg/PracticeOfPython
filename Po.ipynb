{
 "cells": [
  {
   "cell_type": "code",
   "execution_count": 1,
   "id": "6f112e2d-d1f4-4364-9489-7c3c85aa5a0d",
   "metadata": {
    "execution": {
     "iopub.execute_input": "2024-09-10T01:40:53.247753Z",
     "iopub.status.busy": "2024-09-10T01:40:53.247336Z",
     "iopub.status.idle": "2024-09-10T01:41:11.015004Z",
     "shell.execute_reply": "2024-09-10T01:41:11.014395Z",
     "shell.execute_reply.started": "2024-09-10T01:40:53.247723Z"
    },
    "tags": []
   },
   "outputs": [
    {
     "name": "stdout",
     "output_type": "stream",
     "text": [
      "This is a module with classes for playing cards\n",
      "牌手 1:方Q\t梅8\t梅7\t红J\t黑K\t梅2\t黑10\t方7\t红10\t黑2\t方2\t红Q\t黑J\t\n",
      "牌手 2:黑A\t红8\t梅3\t黑7\t方3\t黑3\t红6\t方J\t方6\t黑9\t梅A\t梅4\t方K\t\n",
      "牌手 3:方10\t红2\t黑5\t方4\t红3\t黑8\t红9\t红K\t方8\t梅Q\t梅K\t方5\t梅10\t\n",
      "牌手 4:梅6\t黑6\t方A\t红5\t黑4\t红4\t红7\t梅9\t梅5\t红A\t梅J\t黑Q\t方9\t\n"
     ]
    },
    {
     "ename": "KeyboardInterrupt",
     "evalue": "Interrupted by user",
     "output_type": "error",
     "traceback": [
      "\u001b[0;31m---------------------------------------------------------------------------\u001b[0m",
      "\u001b[0;31mKeyboardInterrupt\u001b[0m                         Traceback (most recent call last)",
      "Cell \u001b[0;32mIn[1], line 90\u001b[0m\n\u001b[1;32m     88\u001b[0m     \u001b[38;5;28mprint\u001b[39m(hand)\n\u001b[1;32m     89\u001b[0m     n\u001b[38;5;241m=\u001b[39mn\u001b[38;5;241m+\u001b[39m\u001b[38;5;241m1\u001b[39m\n\u001b[0;32m---> 90\u001b[0m \u001b[38;5;28;43minput\u001b[39;49m\u001b[43m(\u001b[49m\u001b[38;5;124;43m\"\u001b[39;49m\u001b[38;5;130;43;01m\\n\u001b[39;49;00m\u001b[38;5;124;43mPress the entry key to exit.\u001b[39;49m\u001b[38;5;124;43m\"\u001b[39;49m\u001b[43m)\u001b[49m\n",
      "File \u001b[0;32m/usr/local/lib/python3.10/site-packages/ipykernel/kernelbase.py:1282\u001b[0m, in \u001b[0;36mKernel.raw_input\u001b[0;34m(self, prompt)\u001b[0m\n\u001b[1;32m   1280\u001b[0m     msg \u001b[38;5;241m=\u001b[39m \u001b[38;5;124m\"\u001b[39m\u001b[38;5;124mraw_input was called, but this frontend does not support input requests.\u001b[39m\u001b[38;5;124m\"\u001b[39m\n\u001b[1;32m   1281\u001b[0m     \u001b[38;5;28;01mraise\u001b[39;00m StdinNotImplementedError(msg)\n\u001b[0;32m-> 1282\u001b[0m \u001b[38;5;28;01mreturn\u001b[39;00m \u001b[38;5;28;43mself\u001b[39;49m\u001b[38;5;241;43m.\u001b[39;49m\u001b[43m_input_request\u001b[49m\u001b[43m(\u001b[49m\n\u001b[1;32m   1283\u001b[0m \u001b[43m    \u001b[49m\u001b[38;5;28;43mstr\u001b[39;49m\u001b[43m(\u001b[49m\u001b[43mprompt\u001b[49m\u001b[43m)\u001b[49m\u001b[43m,\u001b[49m\n\u001b[1;32m   1284\u001b[0m \u001b[43m    \u001b[49m\u001b[38;5;28;43mself\u001b[39;49m\u001b[38;5;241;43m.\u001b[39;49m\u001b[43m_parent_ident\u001b[49m\u001b[43m[\u001b[49m\u001b[38;5;124;43m\"\u001b[39;49m\u001b[38;5;124;43mshell\u001b[39;49m\u001b[38;5;124;43m\"\u001b[39;49m\u001b[43m]\u001b[49m\u001b[43m,\u001b[49m\n\u001b[1;32m   1285\u001b[0m \u001b[43m    \u001b[49m\u001b[38;5;28;43mself\u001b[39;49m\u001b[38;5;241;43m.\u001b[39;49m\u001b[43mget_parent\u001b[49m\u001b[43m(\u001b[49m\u001b[38;5;124;43m\"\u001b[39;49m\u001b[38;5;124;43mshell\u001b[39;49m\u001b[38;5;124;43m\"\u001b[39;49m\u001b[43m)\u001b[49m\u001b[43m,\u001b[49m\n\u001b[1;32m   1286\u001b[0m \u001b[43m    \u001b[49m\u001b[43mpassword\u001b[49m\u001b[38;5;241;43m=\u001b[39;49m\u001b[38;5;28;43;01mFalse\u001b[39;49;00m\u001b[43m,\u001b[49m\n\u001b[1;32m   1287\u001b[0m \u001b[43m\u001b[49m\u001b[43m)\u001b[49m\n",
      "File \u001b[0;32m/usr/local/lib/python3.10/site-packages/ipykernel/kernelbase.py:1325\u001b[0m, in \u001b[0;36mKernel._input_request\u001b[0;34m(self, prompt, ident, parent, password)\u001b[0m\n\u001b[1;32m   1322\u001b[0m \u001b[38;5;28;01mexcept\u001b[39;00m \u001b[38;5;167;01mKeyboardInterrupt\u001b[39;00m:\n\u001b[1;32m   1323\u001b[0m     \u001b[38;5;66;03m# re-raise KeyboardInterrupt, to truncate traceback\u001b[39;00m\n\u001b[1;32m   1324\u001b[0m     msg \u001b[38;5;241m=\u001b[39m \u001b[38;5;124m\"\u001b[39m\u001b[38;5;124mInterrupted by user\u001b[39m\u001b[38;5;124m\"\u001b[39m\n\u001b[0;32m-> 1325\u001b[0m     \u001b[38;5;28;01mraise\u001b[39;00m \u001b[38;5;167;01mKeyboardInterrupt\u001b[39;00m(msg) \u001b[38;5;28;01mfrom\u001b[39;00m \u001b[38;5;28;01mNone\u001b[39;00m\n\u001b[1;32m   1326\u001b[0m \u001b[38;5;28;01mexcept\u001b[39;00m \u001b[38;5;167;01mException\u001b[39;00m:\n\u001b[1;32m   1327\u001b[0m     \u001b[38;5;28mself\u001b[39m\u001b[38;5;241m.\u001b[39mlog\u001b[38;5;241m.\u001b[39mwarning(\u001b[38;5;124m\"\u001b[39m\u001b[38;5;124mInvalid Message:\u001b[39m\u001b[38;5;124m\"\u001b[39m, exc_info\u001b[38;5;241m=\u001b[39m\u001b[38;5;28;01mTrue\u001b[39;00m)\n",
      "\u001b[0;31mKeyboardInterrupt\u001b[0m: Interrupted by user"
     ]
    }
   ],
   "source": [
    "class Card():\n",
    "    \"\"\" A playing card \"\"\"\n",
    "    RANKS=['A','2','3','4','5','6','7','8','9','10','J','Q','K']\n",
    "    SUITS=[\"梅\",\"方\",\"红\",\"黑\"]\n",
    "    def __init__(self,rank,suit,face_up=True):\n",
    "        self.rank=rank\n",
    "        self.suit=suit\n",
    "        self.is_face_up=face_up\n",
    "    \n",
    "    def __str__(self):\n",
    "        if self.is_face_up:\n",
    "            rep=self.suit+self.rank\n",
    "        else:\n",
    "            rep=\"xx\"\n",
    "        return rep\n",
    "    def pic_order(self):\n",
    "        if self.rank=='A':\n",
    "            Facenum=1\n",
    "        elif self.rank=='J':\n",
    "            Facenum=11\n",
    "        elif self.rank=='Q':\n",
    "            Facenum=12\n",
    "        elif self.rank=='K':\n",
    "            Facenum=13\n",
    "        else:\n",
    "            Facenum=int(self.rank)\n",
    "        if self.suit==\"梅\":\n",
    "            SUIT=1\n",
    "        elif self.suit==\"方\":\n",
    "            SUIT=2\n",
    "        elif self.suit==\"红\":\n",
    "            SUIT=3\n",
    "        else:\n",
    "            SUIT=4\n",
    "        return (SUIT-1)*13+Facenum\n",
    "    def flip(self):\n",
    "        self.is_face_up=not self.is_face_up\n",
    "\n",
    "class Hand():\n",
    "    \"\"\"A hand of playing cards\"\"\"\n",
    "\n",
    "    def __init__(self):\n",
    "        self.cards=[]\n",
    "    def __str__(self):\n",
    "        if self.cards:\n",
    "            rep=\"\"\n",
    "            for cards in self.cards:\n",
    "                rep+=str(cards)+\"\\t\"\n",
    "        else:\n",
    "            rep=\"无牌\"\n",
    "        return rep\n",
    "    def clear(self):\n",
    "        self.cards=[]\n",
    "    \n",
    "    def add(self,card):\n",
    "        self.cards.append(card)\n",
    "    def give(self,card,other_hand):\n",
    "        self.cards.remove(card)\n",
    "        other_hand.add(card)\n",
    "class Poke(Hand):\n",
    "    \"\"\"A deck of playing cards\"\"\"\n",
    "    def populate(self):\n",
    "        for suit in Card.SUITS:\n",
    "            for rank in Card.RANKS:\n",
    "                self.add(Card(rank,suit))\n",
    "    def shuffle(self):\n",
    "        import random\n",
    "        random.shuffle(self.cards)\n",
    "    def deal(self,hands,per_hand=13):\n",
    "        for rounds in range(per_hand):\n",
    "            for hand in hands:\n",
    "                if self.cards:\n",
    "                    top_card=self.cards[0]\n",
    "                    self.cards.remove(top_card)\n",
    "                    hand.add(top_card)\n",
    "                else:\n",
    "                    print(\"不能继续发牌，牌已经发结束\")\n",
    "if __name__==\"__main__\":\n",
    "    print(\"This is a module with classes for playing cards\")\n",
    "    players=[Hand(),Hand(),Hand(),Hand()]\n",
    "    poke1=Poke()\n",
    "    poke1.populate()\n",
    "    poke1.shuffle()\n",
    "    poke1.deal(players,13)\n",
    "    n=1\n",
    "    for hand in players:\n",
    "        print(\"牌手\",n,end=\":\")\n",
    "        print(hand)\n",
    "        n=n+1\n",
    "    input(\"\\nPress the entry key to exit.\")"
   ]
  }
 ],
 "metadata": {
  "kernelspec": {
   "display_name": "Python 3 (ipykernel)",
   "language": "python",
   "name": "python3"
  },
  "language_info": {
   "codemirror_mode": {
    "name": "ipython",
    "version": 3
   },
   "file_extension": ".py",
   "mimetype": "text/x-python",
   "name": "python",
   "nbconvert_exporter": "python",
   "pygments_lexer": "ipython3",
   "version": "3.10.14"
  }
 },
 "nbformat": 4,
 "nbformat_minor": 5
}
