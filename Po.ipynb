{
 "cells": [
  {
   "cell_type": "code",
   "execution_count": 2,
   "id": "f9ab96f8-a345-4072-aacf-812aa8398d1b",
   "metadata": {
    "ExecutionIndicator": {
     "show": false
    },
    "execution": {
     "iopub.execute_input": "2024-09-08T13:44:54.001269Z",
     "iopub.status.busy": "2024-09-08T13:44:54.000933Z",
     "iopub.status.idle": "2024-09-08T13:44:58.709371Z",
     "shell.execute_reply": "2024-09-08T13:44:58.708877Z",
     "shell.execute_reply.started": "2024-09-08T13:44:54.001251Z"
    },
    "tags": []
   },
   "outputs": [
    {
     "name": "stdout",
     "output_type": "stream",
     "text": [
      "This is a module with classes for playing cards\n",
      "牌手 1:梅Q\t黑K\t黑10\t黑6\t红6\t红7\t黑Q\t梅3\t红4\t红8\t方10\t方4\t方8\t\n",
      "牌手 2:黑2\t红9\t红10\t红5\t黑5\t黑9\t黑3\t红Q\t红K\t梅A\t方9\t方K\t黑A\t\n",
      "牌手 3:黑8\t方5\t梅8\t梅J\t梅9\t方2\t黑7\t方A\t梅5\t红J\t方J\t梅7\t红3\t\n",
      "牌手 4:梅K\t梅4\t黑J\t方6\t黑4\t方3\t梅2\t方Q\t红A\t红2\t梅10\t方7\t梅6\t\n"
     ]
    },
    {
     "name": "stdin",
     "output_type": "stream",
     "text": [
      "\n",
      "Press the entry key to exit. 1\n"
     ]
    }
   ],
   "source": [
    "class Card():\n",
    "    \"\"\" A playing card \"\"\"\n",
    "    RANKS=['A','2','3','4','5','6','7','8','9','10','J','Q','K']\n",
    "    SUITS=[\"梅\",\"方\",\"红\",\"黑\"]\n",
    "    def __init__(self,rank,suit,face_up=True):\n",
    "        self.rank=rank\n",
    "        self.suit=suit\n",
    "        self.is_face_up=face_up\n",
    "    \n",
    "    def __str__(self):\n",
    "        if self.is_face_up:\n",
    "            rep=self.suit+self.rank\n",
    "        else:\n",
    "            rep=\"xx\"\n",
    "        return rep\n",
    "    def pic_order(self):\n",
    "        if self.rank=='A':\n",
    "            Facenum=1\n",
    "        elif self.rank=='J':\n",
    "            Facenum=11\n",
    "        elif self.rank=='Q':\n",
    "            Facenum=12\n",
    "        elif self.rank=='K':\n",
    "            Facenum=13\n",
    "        else:\n",
    "            Facenum=int(self.rank)\n",
    "        if self.suit==\"梅\":\n",
    "            SUIT=1\n",
    "        elif self.suit==\"方\":\n",
    "            SUIT=2\n",
    "        elif self.suit==\"红\":\n",
    "            SUIT=3\n",
    "        else:\n",
    "            # SUIT也就是对其卡牌编号的设置，在后续可视化中，根据编号设置其牌面正反\n",
    "            SUIT=4\n",
    "        return (SUIT-1)*13+Facenum\n",
    "    def flip(self):\n",
    "        self.is_face_up=not self.is_face_up\n",
    "\n",
    "class Hand():\n",
    "    \"\"\"A hand of playing cards\"\"\"\n",
    "\n",
    "    def __init__(self):\n",
    "        self.cards=[]\n",
    "    def __str__(self):\n",
    "        if self.cards:\n",
    "            rep=\"\"\n",
    "            for cards in self.cards:\n",
    "                rep+=str(cards)+\"\\t\"\n",
    "        else:\n",
    "            rep=\"无牌\"\n",
    "        return rep\n",
    "    def clear(self):\n",
    "        self.cards=[]\n",
    "    \n",
    "    def add(self,card):\n",
    "        self.cards.append(card)\n",
    "    def give(self,card,other_hand):\n",
    "        self.cards.remove(card)\n",
    "        other_hand.add(card)\n",
    "class Poke(Hand):\n",
    "    \"\"\"A deck of playing cards\"\"\"\n",
    "    def populate(self):\n",
    "        for suit in Card.SUITS:\n",
    "            for rank in Card.RANKS:\n",
    "                self.add(Card(rank,suit))\n",
    "    def shuffle(self):\n",
    "        import random\n",
    "        random.shuffle(self.cards)\n",
    "    def deal(self,hands,per_hand=13):\n",
    "        for rounds in range(per_hand):\n",
    "            for hand in hands:\n",
    "                if self.cards:\n",
    "                    top_card=self.cards[0]\n",
    "                    self.cards.remove(top_card)\n",
    "                    hand.add(top_card)\n",
    "                else:\n",
    "                    print(\"不能继续发牌，牌已经发结束\")\n",
    "if __name__==\"__main__\":\n",
    "    print(\"This is a module with classes for playing cards\")\n",
    "    players=[Hand(),Hand(),Hand(),Hand()]\n",
    "    poke1=Poke()\n",
    "    poke1.populate()\n",
    "    poke1.shuffle()\n",
    "    poke1.deal(players,13)\n",
    "    n=1\n",
    "    for hand in players:\n",
    "        print(\"牌手\",n,end=\":\")\n",
    "        print(hand)\n",
    "        n=n+1\n",
    "    input(\"\\nPress the entry key to exit.\")\n",
    "        "
   ]
  }
 ],
 "metadata": {
  "kernelspec": {
   "display_name": "Python 3 (ipykernel)",
   "language": "python",
   "name": "python3"
  },
  "language_info": {
   "codemirror_mode": {
    "name": "ipython",
    "version": 3
   },
   "file_extension": ".py",
   "mimetype": "text/x-python",
   "name": "python",
   "nbconvert_exporter": "python",
   "pygments_lexer": "ipython3",
   "version": "3.10.14"
  }
 },
 "nbformat": 4,
 "nbformat_minor": 5
}
