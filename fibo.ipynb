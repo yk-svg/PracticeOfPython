{
 "cells": [
  {
   "cell_type": "code",
   "execution_count": null,
   "id": "f746d038-3c87-4412-b163-0ad48a5a0a99",
   "metadata": {},
   "outputs": [],
   "source": [
    "def fib(n):\n",
    "    a,b=0,1\n",
    "    while b<n:\n",
    "        print(b,end=\" \")\n",
    "        a,b=b,a+b\n",
    "    print()\n",
    "def fib2(n):\n",
    "    result=[]\n",
    "    a,b=0,1\n",
    "    while b<n:\n",
    "        result.append(b)\n",
    "        a,b=b,a+b\n",
    "    return result\n",
    "def add(a,b):\n",
    "    return a+b"
   ]
  }
 ],
 "metadata": {
  "kernelspec": {
   "display_name": "Python 3 (ipykernel)",
   "language": "python",
   "name": "python3"
  },
  "language_info": {
   "codemirror_mode": {
    "name": "ipython",
    "version": 3
   },
   "file_extension": ".py",
   "mimetype": "text/x-python",
   "name": "python",
   "nbconvert_exporter": "python",
   "pygments_lexer": "ipython3",
   "version": "3.10.14"
  }
 },
 "nbformat": 4,
 "nbformat_minor": 5
}
